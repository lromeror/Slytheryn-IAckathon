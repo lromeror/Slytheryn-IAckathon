{
 "cells": [
  {
   "cell_type": "code",
   "execution_count": 21,
   "metadata": {},
   "outputs": [],
   "source": [
    "import pandas as pd\n",
    "import numpy as np"
   ]
  },
  {
   "cell_type": "markdown",
   "metadata": {},
   "source": [
    "## Planning2015-2023.csv"
   ]
  },
  {
   "cell_type": "code",
   "execution_count": 22,
   "metadata": {},
   "outputs": [],
   "source": [
    "planning = pd.read_csv(\"../planning2015-2023.csv\")\n"
   ]
  },
  {
   "cell_type": "code",
   "execution_count": 23,
   "metadata": {},
   "outputs": [
    {
     "data": {
      "text/plain": [
       "array(['ocds'], dtype=object)"
      ]
     },
     "execution_count": 23,
     "metadata": {},
     "output_type": "execute_result"
    }
   ],
   "source": [
    "planning.insert(0, 'Iniciar_Ocid', [x.split(\"-\")[0] for x in planning[\"ocid\"]])\n",
    "planning['Iniciar_Ocid'].unique()\n",
    "## Ya todos inician con ocds "
   ]
  },
  {
   "cell_type": "code",
   "execution_count": 24,
   "metadata": {},
   "outputs": [],
   "source": [
    "#Modificada\n",
    "planning.to_csv(\"planning2015-2023_M.csv\",index=False)"
   ]
  },
  {
   "cell_type": "markdown",
   "metadata": {},
   "source": [
    "## Tender2015-2023.csv\n"
   ]
  },
  {
   "cell_type": "code",
   "execution_count": 25,
   "metadata": {},
   "outputs": [
    {
     "name": "stderr",
     "output_type": "stream",
     "text": [
      "/var/folders/pf/565wgnj55rl181qjmrmqq69m0000gn/T/ipykernel_68099/1039999243.py:1: DtypeWarning: Columns (12,13,14,15,16,18,19,20,22,23,24,25,26) have mixed types. Specify dtype option on import or set low_memory=False.\n",
      "  tender = pd.read_csv(\"../tender2015-2023.csv\")\n"
     ]
    }
   ],
   "source": [
    "tender = pd.read_csv(\"../tender2015-2023.csv\")\n"
   ]
  },
  {
   "cell_type": "code",
   "execution_count": 27,
   "metadata": {},
   "outputs": [
    {
     "data": {
      "text/plain": [
       "array(['ocds'], dtype=object)"
      ]
     },
     "execution_count": 27,
     "metadata": {},
     "output_type": "execute_result"
    }
   ],
   "source": [
    "tender.insert(0, 'Iniciar_Ocid', [x.split(\"-\")[0] for x in tender[\"ocid\"]])\n",
    "tender['Iniciar_Ocid'].unique()\n",
    "## Ya todos inician con ocds "
   ]
  },
  {
   "cell_type": "markdown",
   "metadata": {},
   "source": [
    "## Releases2015-2023.csv"
   ]
  },
  {
   "cell_type": "code",
   "execution_count": 28,
   "metadata": {},
   "outputs": [],
   "source": [
    "releases  = pd.read_csv(\"../releases2015-2023.csv\")"
   ]
  },
  {
   "cell_type": "code",
   "execution_count": null,
   "metadata": {},
   "outputs": [],
   "source": [
    "releases.insert(0, 'Iniciar_Ocid', [x.split(\"-\")[0] for x in releases[\"ocid\"]])\n",
    "releases['Iniciar_Ocid'].unique()\n",
    "## Ya todos inician con ocds "
   ]
  },
  {
   "cell_type": "markdown",
   "metadata": {},
   "source": [
    "## Contracts2015-2023.csv"
   ]
  },
  {
   "cell_type": "code",
   "execution_count": 30,
   "metadata": {},
   "outputs": [
    {
     "name": "stderr",
     "output_type": "stream",
     "text": [
      "/var/folders/pf/565wgnj55rl181qjmrmqq69m0000gn/T/ipykernel_68099/279204247.py:1: DtypeWarning: Columns (7,8,12,13) have mixed types. Specify dtype option on import or set low_memory=False.\n",
      "  contracts  = pd.read_csv(\"../contracts2015-2023.csv\")\n"
     ]
    }
   ],
   "source": [
    "contracts  = pd.read_csv(\"../contracts2015-2023.csv\")"
   ]
  },
  {
   "cell_type": "code",
   "execution_count": 31,
   "metadata": {},
   "outputs": [
    {
     "data": {
      "text/plain": [
       "array(['ocds'], dtype=object)"
      ]
     },
     "execution_count": 31,
     "metadata": {},
     "output_type": "execute_result"
    }
   ],
   "source": [
    "contracts.insert(0, 'Iniciar_Ocid', [x.split(\"-\")[0] for x in contracts[\"ocid\"]])\n",
    "contracts['Iniciar_Ocid'].unique()\n",
    "## Ya todos inician con ocds "
   ]
  }
 ],
 "metadata": {
  "kernelspec": {
   "display_name": "Python 3",
   "language": "python",
   "name": "python3"
  },
  "language_info": {
   "codemirror_mode": {
    "name": "ipython",
    "version": 3
   },
   "file_extension": ".py",
   "mimetype": "text/x-python",
   "name": "python",
   "nbconvert_exporter": "python",
   "pygments_lexer": "ipython3",
   "version": "3.11.3"
  },
  "orig_nbformat": 4
 },
 "nbformat": 4,
 "nbformat_minor": 2
}
