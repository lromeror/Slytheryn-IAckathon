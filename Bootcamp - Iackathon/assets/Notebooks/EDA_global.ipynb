{
 "cells": [
  {
   "cell_type": "markdown",
   "metadata": {},
   "source": [
    "# COMPRAS PUBLICAS DEL ECUADOR"
   ]
  },
  {
   "cell_type": "markdown",
   "metadata": {},
   "source": [
    "## Carga y Preprocesamiento"
   ]
  },
  {
   "cell_type": "code",
   "execution_count": 7,
   "metadata": {},
   "outputs": [],
   "source": [
    "# Importar todas las librerías que se vayan a usar \n",
    "import pandas as pd\n",
    "import numpy as np\n",
    "import plotly_express as px"
   ]
  },
  {
   "cell_type": "code",
   "execution_count": 8,
   "metadata": {},
   "outputs": [
    {
     "name": "stderr",
     "output_type": "stream",
     "text": [
      "/var/folders/pf/565wgnj55rl181qjmrmqq69m0000gn/T/ipykernel_35218/3691122728.py:3: DtypeWarning: Columns (12,13,14,15,16,18,19,20,22,23,24,25,26) have mixed types. Specify dtype option on import or set low_memory=False.\n",
      "  tender = pd.read_csv(\"../../../tender2015-2023.csv\")\n",
      "/var/folders/pf/565wgnj55rl181qjmrmqq69m0000gn/T/ipykernel_35218/3691122728.py:5: DtypeWarning: Columns (7,8,12,13) have mixed types. Specify dtype option on import or set low_memory=False.\n",
      "  contracts  = pd.read_csv(\"../../../contracts2015-2023.csv\")\n"
     ]
    }
   ],
   "source": [
    "# Lectura de todos las datas\n",
    "planning = pd.read_csv(\"../../../planning2015-2023.csv\")\n",
    "tender = pd.read_csv(\"../../../tender2015-2023.csv\")\n",
    "releases  = pd.read_csv(\"../../../releases2015-2023.csv\")\n",
    "contracts  = pd.read_csv(\"../../../contracts2015-2023.csv\")\n",
    "awards = pd.read_csv(\"../../../awards2015-2023.csv\")"
   ]
  },
  {
   "cell_type": "code",
   "execution_count": 9,
   "metadata": {},
   "outputs": [],
   "source": [
    "# Poder visualizar todas las columnas de los data frame\n",
    "pd.set_option('display.max_columns', 50)"
   ]
  }
 ],
 "metadata": {
  "kernelspec": {
   "display_name": "Python 3",
   "language": "python",
   "name": "python3"
  },
  "language_info": {
   "codemirror_mode": {
    "name": "ipython",
    "version": 3
   },
   "file_extension": ".py",
   "mimetype": "text/x-python",
   "name": "python",
   "nbconvert_exporter": "python",
   "pygments_lexer": "ipython3",
   "version": "3.11.3"
  },
  "orig_nbformat": 4
 },
 "nbformat": 4,
 "nbformat_minor": 2
}
