{
 "cells": [
  {
   "cell_type": "code",
   "execution_count": 3,
   "metadata": {},
   "outputs": [],
   "source": [
    "import pandas as pd\n",
    "import numpy  as np"
   ]
  },
  {
   "cell_type": "code",
   "execution_count": 4,
   "metadata": {},
   "outputs": [
    {
     "name": "stderr",
     "output_type": "stream",
     "text": [
      "/var/folders/pf/565wgnj55rl181qjmrmqq69m0000gn/T/ipykernel_74837/726335487.py:2: DtypeWarning: Columns (12,13,14,15,16,18,19,20,22,23,24,25,26) have mixed types. Specify dtype option on import or set low_memory=False.\n",
      "  tender = pd.read_csv(\"../tender2015-2023.csv\")\n",
      "/var/folders/pf/565wgnj55rl181qjmrmqq69m0000gn/T/ipykernel_74837/726335487.py:4: DtypeWarning: Columns (7,8,12,13) have mixed types. Specify dtype option on import or set low_memory=False.\n",
      "  contracts  = pd.read_csv(\"../contracts2015-2023.csv\")\n"
     ]
    }
   ],
   "source": [
    "planning = pd.read_csv(\"../planning2015-2023.csv\")\n",
    "tender = pd.read_csv(\"../tender2015-2023.csv\")\n",
    "releases  = pd.read_csv(\"../releases2015-2023.csv\")\n",
    "contracts  = pd.read_csv(\"../contracts2015-2023.csv\")"
   ]
  },
  {
   "cell_type": "code",
   "execution_count": 5,
   "metadata": {},
   "outputs": [
    {
     "name": "stdout",
     "output_type": "stream",
     "text": [
      "<class 'pandas.core.frame.DataFrame'>\n",
      "RangeIndex: 371136 entries, 0 to 371135\n",
      "Data columns (total 8 columns):\n",
      " #   Column              Non-Null Count   Dtype  \n",
      "---  ------              --------------   -----  \n",
      " 0   ocid                371136 non-null  object \n",
      " 1   id                  371136 non-null  object \n",
      " 2   rationale           371134 non-null  object \n",
      " 3   budget_id           362562 non-null  object \n",
      " 4   budget_description  0 non-null       float64\n",
      " 5   budget_amount       193607 non-null  float64\n",
      " 6   budget_currency     193607 non-null  object \n",
      " 7   año                 371136 non-null  int64  \n",
      "dtypes: float64(2), int64(1), object(5)\n",
      "memory usage: 22.7+ MB\n",
      "<class 'pandas.core.frame.DataFrame'>\n",
      "RangeIndex: 2144910 entries, 0 to 2144909\n",
      "Data columns (total 30 columns):\n",
      " #   Column                        Dtype  \n",
      "---  ------                        -----  \n",
      " 0   ocid                          object \n",
      " 1   release_id                    object \n",
      " 2   id                            object \n",
      " 3   title                         object \n",
      " 4   description                   object \n",
      " 5   status                        object \n",
      " 6   procuringEntity_id            object \n",
      " 7   procuringEntity_name          object \n",
      " 8   value_amount                  float64\n",
      " 9   value_currency                object \n",
      " 10  procurementMethod             object \n",
      " 11  procurementMethodDetails      object \n",
      " 12  mainProcurementCategory       object \n",
      " 13  awardCriteria                 object \n",
      " 14  tenderPeriod_startDate        object \n",
      " 15  tenderPeriod_endDate          object \n",
      " 16  tenderPeriod_maxExtentDate    object \n",
      " 17  tenderPeriod_durationInDays   float64\n",
      " 18  enquiryPeriod_startDate       object \n",
      " 19  enquiryPeriod_endDate         object \n",
      " 20  enquiryPeriod_maxExtentDate   object \n",
      " 21  enquiryPeriod_durationInDays  float64\n",
      " 22  hasEnquiries                  object \n",
      " 23  eligibilityCriteria           object \n",
      " 24  awardPeriod_startDate         object \n",
      " 25  awardPeriod_endDate           object \n",
      " 26  awardPeriod_maxExtentDate     object \n",
      " 27  awardPeriod_durationInDays    float64\n",
      " 28  numberOfTenderers             float64\n",
      " 29  año                           int64  \n",
      "dtypes: float64(5), int64(1), object(24)\n",
      "memory usage: 490.9+ MB\n",
      "<class 'pandas.core.frame.DataFrame'>\n",
      "RangeIndex: 2158606 entries, 0 to 2158605\n",
      "Data columns (total 9 columns):\n",
      " #   Column          Dtype \n",
      "---  ------          ----- \n",
      " 0   ocid            object\n",
      " 1   id              object\n",
      " 2   initiationType  object\n",
      " 3   buyer_id        object\n",
      " 4   buyer_name      object\n",
      " 5   language        object\n",
      " 6   date            object\n",
      " 7   tag             object\n",
      " 8   año             int64 \n",
      "dtypes: int64(1), object(8)\n",
      "memory usage: 148.2+ MB\n",
      "<class 'pandas.core.frame.DataFrame'>\n",
      "RangeIndex: 2075108 entries, 0 to 2075107\n",
      "Data columns (total 15 columns):\n",
      " #   Column                         Dtype  \n",
      "---  ------                         -----  \n",
      " 0   ocid                           object \n",
      " 1   release_id                     object \n",
      " 2   id                             object \n",
      " 3   awardID                        object \n",
      " 4   title                          float64\n",
      " 5   description                    float64\n",
      " 6   status                         object \n",
      " 7   contractPeriod_startDate       object \n",
      " 8   contractPeriod_endDate         object \n",
      " 9   contractPeriod_maxExtentDate   float64\n",
      " 10  contractPeriod_durationInDays  float64\n",
      " 11  amount                         float64\n",
      " 12  currency                       object \n",
      " 13  dateSigned                     object \n",
      " 14  año                            int64  \n",
      "dtypes: float64(5), int64(1), object(9)\n",
      "memory usage: 237.5+ MB\n"
     ]
    },
    {
     "data": {
      "text/plain": [
       "(None, None, None, None)"
      ]
     },
     "execution_count": 5,
     "metadata": {},
     "output_type": "execute_result"
    }
   ],
   "source": [
    "planning.info(),tender.info(),releases.info(),contracts.info()"
   ]
  }
 ],
 "metadata": {
  "kernelspec": {
   "display_name": "Python 3",
   "language": "python",
   "name": "python3"
  },
  "language_info": {
   "codemirror_mode": {
    "name": "ipython",
    "version": 3
   },
   "file_extension": ".py",
   "mimetype": "text/x-python",
   "name": "python",
   "nbconvert_exporter": "python",
   "pygments_lexer": "ipython3",
   "version": "3.11.3"
  },
  "orig_nbformat": 4
 },
 "nbformat": 4,
 "nbformat_minor": 2
}
